{
 "cells": [
  {
   "cell_type": "code",
   "execution_count": 2,
   "id": "4ffd3e9e-424c-4ad5-98df-a278715ea5fc",
   "metadata": {},
   "outputs": [],
   "source": [
    "import random\n",
    "from itertools import combinations\n",
    "from collections import Counter\n",
    "\n",
    "num_teams = 9\n",
    "# Create list of teams\n",
    "teams = [f\"Team {i+1}\" for i in range(num_teams)]\n",
    "\n",
    "# Generate all possible matchups\n",
    "all_matchups = list(combinations(teams, 2))\n",
    "# Double the matchups since each team plays each other twice\n",
    "all_matchups = all_matchups * 2\n",
    "random.shuffle(all_matchups)"
   ]
  },
  {
   "cell_type": "code",
   "execution_count": 3,
   "id": "8887ccae-53e8-4dde-bbec-8eee9dd9cf85",
   "metadata": {},
   "outputs": [
    {
     "data": {
      "text/plain": [
       "[('Team 4', 'Team 6'),\n",
       " ('Team 3', 'Team 4'),\n",
       " ('Team 3', 'Team 9'),\n",
       " ('Team 1', 'Team 2'),\n",
       " ('Team 6', 'Team 8'),\n",
       " ('Team 7', 'Team 8'),\n",
       " ('Team 6', 'Team 7'),\n",
       " ('Team 1', 'Team 2'),\n",
       " ('Team 4', 'Team 6'),\n",
       " ('Team 2', 'Team 5'),\n",
       " ('Team 1', 'Team 3'),\n",
       " ('Team 5', 'Team 7'),\n",
       " ('Team 5', 'Team 8'),\n",
       " ('Team 1', 'Team 4'),\n",
       " ('Team 1', 'Team 8'),\n",
       " ('Team 1', 'Team 5'),\n",
       " ('Team 2', 'Team 8'),\n",
       " ('Team 5', 'Team 6'),\n",
       " ('Team 2', 'Team 7'),\n",
       " ('Team 5', 'Team 8'),\n",
       " ('Team 1', 'Team 3'),\n",
       " ('Team 3', 'Team 6'),\n",
       " ('Team 3', 'Team 7'),\n",
       " ('Team 1', 'Team 6'),\n",
       " ('Team 4', 'Team 7'),\n",
       " ('Team 1', 'Team 7'),\n",
       " ('Team 4', 'Team 5'),\n",
       " ('Team 3', 'Team 9'),\n",
       " ('Team 4', 'Team 5'),\n",
       " ('Team 2', 'Team 3'),\n",
       " ('Team 3', 'Team 4'),\n",
       " ('Team 7', 'Team 9'),\n",
       " ('Team 1', 'Team 6'),\n",
       " ('Team 3', 'Team 5'),\n",
       " ('Team 3', 'Team 8'),\n",
       " ('Team 1', 'Team 4'),\n",
       " ('Team 4', 'Team 9'),\n",
       " ('Team 2', 'Team 6'),\n",
       " ('Team 2', 'Team 9'),\n",
       " ('Team 1', 'Team 8'),\n",
       " ('Team 1', 'Team 5'),\n",
       " ('Team 5', 'Team 9'),\n",
       " ('Team 1', 'Team 7'),\n",
       " ('Team 4', 'Team 7'),\n",
       " ('Team 2', 'Team 7'),\n",
       " ('Team 3', 'Team 7'),\n",
       " ('Team 7', 'Team 9'),\n",
       " ('Team 1', 'Team 9'),\n",
       " ('Team 3', 'Team 5'),\n",
       " ('Team 5', 'Team 9'),\n",
       " ('Team 6', 'Team 7'),\n",
       " ('Team 2', 'Team 9'),\n",
       " ('Team 2', 'Team 4'),\n",
       " ('Team 7', 'Team 8'),\n",
       " ('Team 6', 'Team 8'),\n",
       " ('Team 3', 'Team 6'),\n",
       " ('Team 4', 'Team 9'),\n",
       " ('Team 4', 'Team 8'),\n",
       " ('Team 5', 'Team 7'),\n",
       " ('Team 5', 'Team 6'),\n",
       " ('Team 1', 'Team 9'),\n",
       " ('Team 8', 'Team 9'),\n",
       " ('Team 6', 'Team 9'),\n",
       " ('Team 2', 'Team 3'),\n",
       " ('Team 2', 'Team 8'),\n",
       " ('Team 8', 'Team 9'),\n",
       " ('Team 2', 'Team 6'),\n",
       " ('Team 2', 'Team 4'),\n",
       " ('Team 4', 'Team 8'),\n",
       " ('Team 2', 'Team 5'),\n",
       " ('Team 6', 'Team 9'),\n",
       " ('Team 3', 'Team 8')]"
      ]
     },
     "execution_count": 3,
     "metadata": {},
     "output_type": "execute_result"
    }
   ],
   "source": [
    "all_matchups"
   ]
  },
  {
   "cell_type": "code",
   "execution_count": 6,
   "id": "babd6ccb-dfbf-419b-85bc-7bc325c83a30",
   "metadata": {},
   "outputs": [
    {
     "data": {
      "text/plain": [
       "8"
      ]
     },
     "execution_count": 6,
     "metadata": {},
     "output_type": "execute_result"
    }
   ],
   "source": [
    "# Calculate max games per week based on number of teams\n",
    "max_games_per_week = 8 if num_teams >= 8 else 4\n",
    "\n",
    "# Organize games into weeks with paired games and rest constraints\n",
    "schedule = []\n",
    "remaining_matchups = all_matchups.copy()\n",
    "max_games_per_week"
   ]
  },
  {
   "cell_type": "code",
   "execution_count": null,
   "id": "587746df-2c1b-4b34-b033-e41e054d7597",
   "metadata": {},
   "outputs": [],
   "source": [
    "\n",
    "\n",
    "if remaining_matchups:\n",
    "    week_games = []\n",
    "    used_teams = set()\n",
    "    \n",
    "    # Try to create pairs of games where no team plays in both games of a pair\n",
    "    while len(week_games) < max_games_per_week and remaining_matchups:\n",
    "        # Find a valid game for the current pair\n",
    "        valid_game_found = False\n",
    "        for i, (team1, team2) in enumerate(remaining_matchups):\n",
    "            # Check if neither team has played in the current pair of games\n",
    "            if team1 not in used_teams and team2 not in used_teams:\n",
    "                week_games.append((team1, team2))\n",
    "                used_teams.add(team1)\n",
    "                used_teams.add(team2)\n",
    "                remaining_matchups.pop(i)\n",
    "                valid_game_found = True\n",
    "                break\n",
    "        \n",
    "        # If we couldn't find a valid game for the current pair, move to next pair\n",
    "        if not valid_game_found:\n",
    "            # If we're at an odd number of games and can't find a valid pair,\n",
    "            # it's okay to have a single game\n",
    "            if len(week_games) % 2 == 0:\n",
    "                break\n",
    "    \n",
    "    if week_games:\n",
    "        schedule.append(week_games)"
   ]
  },
  {
   "cell_type": "code",
   "execution_count": 7,
   "id": "e9e8f605-8148-4798-ba63-a36717fcd04b",
   "metadata": {},
   "outputs": [
    {
     "name": "stdout",
     "output_type": "stream",
     "text": [
      "\n",
      "Generating and validating schedule for 9 teams:\n"
     ]
    },
    {
     "ename": "NameError",
     "evalue": "name 'generate_schedule' is not defined",
     "output_type": "error",
     "traceback": [
      "\u001b[0;31m---------------------------------------------------------------------------\u001b[0m",
      "\u001b[0;31mNameError\u001b[0m                                 Traceback (most recent call last)",
      "Cell \u001b[0;32mIn[7], line 57\u001b[0m\n\u001b[1;32m     54\u001b[0m         \u001b[38;5;28mprint\u001b[39m(\u001b[38;5;124m\"\u001b[39m\u001b[38;5;124m-\u001b[39m\u001b[38;5;124m\"\u001b[39m \u001b[38;5;241m*\u001b[39m \u001b[38;5;241m40\u001b[39m)\n\u001b[1;32m     56\u001b[0m \u001b[38;5;28;01mif\u001b[39;00m \u001b[38;5;18m__name__\u001b[39m \u001b[38;5;241m==\u001b[39m \u001b[38;5;124m\"\u001b[39m\u001b[38;5;124m__main__\u001b[39m\u001b[38;5;124m\"\u001b[39m:\n\u001b[0;32m---> 57\u001b[0m     \u001b[43mmain\u001b[49m\u001b[43m(\u001b[49m\u001b[43m)\u001b[49m\n",
      "Cell \u001b[0;32mIn[7], line 42\u001b[0m, in \u001b[0;36mmain\u001b[0;34m()\u001b[0m\n\u001b[1;32m     40\u001b[0m \u001b[38;5;28;01mfor\u001b[39;00m num_teams \u001b[38;5;129;01min\u001b[39;00m [\u001b[38;5;241m9\u001b[39m]:\n\u001b[1;32m     41\u001b[0m     \u001b[38;5;28mprint\u001b[39m(\u001b[38;5;124mf\u001b[39m\u001b[38;5;124m\"\u001b[39m\u001b[38;5;130;01m\\n\u001b[39;00m\u001b[38;5;124mGenerating and validating schedule for \u001b[39m\u001b[38;5;132;01m{\u001b[39;00mnum_teams\u001b[38;5;132;01m}\u001b[39;00m\u001b[38;5;124m teams:\u001b[39m\u001b[38;5;124m\"\u001b[39m)\n\u001b[0;32m---> 42\u001b[0m     schedule \u001b[38;5;241m=\u001b[39m \u001b[43mgenerate_schedule\u001b[49m(num_teams)\n\u001b[1;32m     43\u001b[0m     print_schedule(schedule)\n\u001b[1;32m     45\u001b[0m     \u001b[38;5;66;03m# Validate the schedule\u001b[39;00m\n",
      "\u001b[0;31mNameError\u001b[0m: name 'generate_schedule' is not defined"
     ]
    }
   ],
   "source": [
    "def print_schedule(schedule):\n",
    "    print(\"\\nSeason Schedule:\")\n",
    "    print(\"-\" * 40)\n",
    "    for week_num, week_games in enumerate(schedule, 1):\n",
    "        print(f\"\\nWeek {week_num}:\")\n",
    "        for game_num, (team1, team2) in enumerate(week_games, 1):\n",
    "            print(f\"Game {game_num}: {team1} vs {team2}\")\n",
    "        print(\"-\" * 40)\n",
    "\n",
    "def validate_schedule(schedule, num_teams):\n",
    "    # Create a Counter to track games between each pair of teams\n",
    "    matchup_counts = Counter()\n",
    "    \n",
    "    # Count all matchups in the schedule\n",
    "    for week in schedule:\n",
    "        for team1, team2 in week:\n",
    "            # Sort teams to ensure consistent counting regardless of order\n",
    "            matchup = tuple(sorted([team1, team2]))\n",
    "            matchup_counts[matchup] += 1\n",
    "    \n",
    "    # Check if each team plays every other team exactly twice\n",
    "    teams = [f\"Team {i+1}\" for i in range(num_teams)]\n",
    "    expected_matchups = list(combinations(teams, 2))\n",
    "    \n",
    "    all_valid = True\n",
    "    errors = []\n",
    "    \n",
    "    # Verify each possible matchup occurs exactly twice\n",
    "    for matchup in expected_matchups:\n",
    "        matchup = tuple(sorted(matchup))\n",
    "        count = matchup_counts[matchup]\n",
    "        if count != 2:\n",
    "            all_valid = False\n",
    "            errors.append(f\"{matchup[0]} vs {matchup[1]}: Played {count} times (should be 2)\")\n",
    "    \n",
    "    return all_valid, errors\n",
    "\n",
    "def main():\n",
    "    # Test for each possible number of teams\n",
    "    for num_teams in [9]:\n",
    "        print(f\"\\nGenerating and validating schedule for {num_teams} teams:\")\n",
    "        schedule = generate_schedule(num_teams)\n",
    "        print_schedule(schedule)\n",
    "        \n",
    "        # Validate the schedule\n",
    "        valid, errors = validate_schedule(schedule, num_teams)\n",
    "        print(\"\\nSchedule Validation:\")\n",
    "        if valid:\n",
    "            print(\"✓ All teams play each other exactly twice\")\n",
    "        else:\n",
    "            print(\"✗ Schedule has errors:\")\n",
    "            for error in errors:\n",
    "                print(f\"  - {error}\")\n",
    "        print(\"-\" * 40)\n",
    "\n",
    "if __name__ == \"__main__\":\n",
    "    main()\n"
   ]
  },
  {
   "cell_type": "code",
   "execution_count": null,
   "id": "8fd9161f-5b9a-446c-8825-316e6353af37",
   "metadata": {},
   "outputs": [],
   "source": []
  }
 ],
 "metadata": {
  "kernelspec": {
   "display_name": "Python 3 (ipykernel)",
   "language": "python",
   "name": "python3"
  },
  "language_info": {
   "codemirror_mode": {
    "name": "ipython",
    "version": 3
   },
   "file_extension": ".py",
   "mimetype": "text/x-python",
   "name": "python",
   "nbconvert_exporter": "python",
   "pygments_lexer": "ipython3",
   "version": "3.12.8"
  }
 },
 "nbformat": 4,
 "nbformat_minor": 5
}
